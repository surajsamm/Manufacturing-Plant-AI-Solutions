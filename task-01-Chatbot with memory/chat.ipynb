{
 "cells": [
  {
   "cell_type": "code",
   "execution_count": null,
   "id": "165ad10e",
   "metadata": {},
   "outputs": [],
   "source": [
    "# ============================================================\n",
    "# 🏭 Task 1: Manufacturing Chatbot with Memory \n",
    "# ============================================================"
   ]
  },
  {
   "cell_type": "code",
   "execution_count": null,
   "id": "9c6724f8",
   "metadata": {},
   "outputs": [],
   "source": [
    "# Step 1: Install Dependencies\n",
    "!pip install langchain langchain-groq gradio"
   ]
  },
  {
   "cell_type": "code",
   "execution_count": 2,
   "id": "94639129",
   "metadata": {},
   "outputs": [
    {
     "name": "stderr",
     "output_type": "stream",
     "text": [
      "C:\\Users\\cocsa\\AppData\\Local\\Packages\\PythonSoftwareFoundation.Python.3.11_qbz5n2kfra8p0\\LocalCache\\local-packages\\Python311\\site-packages\\tqdm\\auto.py:21: TqdmWarning: IProgress not found. Please update jupyter and ipywidgets. See https://ipywidgets.readthedocs.io/en/stable/user_install.html\n",
      "  from .autonotebook import tqdm as notebook_tqdm\n"
     ]
    }
   ],
   "source": [
    "\n",
    "# Step 2: Import Libraries\n",
    "from langchain_groq import ChatGroq\n",
    "from langchain.memory import ConversationBufferMemory\n",
    "from langchain.chains import ConversationChain\n",
    "import gradio as gr\n",
    "import os"
   ]
  },
  {
   "cell_type": "code",
   "execution_count": null,
   "id": "f1c139fe",
   "metadata": {},
   "outputs": [],
   "source": [
    "\n",
    "# Step 3: Set your Groq API Key\n",
    "# 👉 Replace with your actual Groq API key\n",
    "os.environ[\"GROQ_API_KEY\"] = \"your_groq_api_key_here\""
   ]
  },
  {
   "cell_type": "code",
   "execution_count": 5,
   "id": "c4d43c1d",
   "metadata": {},
   "outputs": [],
   "source": [
    "# Step 4: Initialize LLM (Groq)\n",
    "llm = ChatGroq(\n",
    "    api_key=os.environ[\"GROQ_API_KEY\"],\n",
    "    model=\"llama-3.1-8b-instant\"  # Fast and capable conversational model\n",
    ")"
   ]
  },
  {
   "cell_type": "code",
   "execution_count": 27,
   "id": "df0a14ec",
   "metadata": {},
   "outputs": [],
   "source": [
    "# Step 5: Add Memory to Chat\n",
    "memory = ConversationBufferMemory(memory_key=\"history\", return_messages=True)\n",
    "prompt = PromptTemplate(\n",
    "    input_variables=[\"history\", \"input\"],\n",
    "    template=(\n",
    "        \"You are a helpful manufacturing assistant.\\n\"\n",
    "        \"You assist operators, supervisors, and suppliers with production, maintenance, and inventory details.\\n\"\n",
    "        \"Use the conversation history below to maintain context.\\n\\n\"\n",
    "        \"Conversation:\\n{history}\\n\"\n",
    "        \"User: {input}\\n\"\n",
    "        \"Assistant:\"\n",
    "    ),\n",
    ")"
   ]
  },
  {
   "cell_type": "code",
   "execution_count": 28,
   "id": "c7cffe02",
   "metadata": {},
   "outputs": [],
   "source": [
    "\n",
    "# Step 6: Create conversation chain\n",
    "conversation = ConversationChain(\n",
    "    llm=llm,\n",
    "    memory=memory,\n",
    "    prompt=prompt,\n",
    "    verbose=True\n",
    ")"
   ]
  },
  {
   "cell_type": "code",
   "execution_count": 29,
   "id": "7c5db30c",
   "metadata": {},
   "outputs": [],
   "source": [
    "# Step 7: Initialize JSON log file\n",
    "json_file = \"sample_conversations.json\"\n",
    "\n",
    "def init_json_log():\n",
    "    if not os.path.exists(json_file):\n",
    "        with open(json_file, \"w\") as f:\n",
    "            json.dump([], f, indent=4)\n",
    "\n",
    "def save_to_json(user, bot_response):\n",
    "    with open(json_file, \"r\") as f:\n",
    "        data = json.load(f)\n",
    "\n",
    "    # Create new chat entry\n",
    "    chat_entry = {\n",
    "        \"sender\": \"User\",\n",
    "        \"message\": user,\n",
    "        \"timestamp\": str(datetime.utcnow())\n",
    "    }\n",
    "    bot_entry = {\n",
    "        \"sender\": \"Assistant\",\n",
    "        \"message\": bot_response,\n",
    "        \"timestamp\": str(datetime.utcnow())\n",
    "    }\n",
    "\n",
    "    # Append entries\n",
    "    if data and isinstance(data, list):\n",
    "        data.append(chat_entry)\n",
    "        data.append(bot_entry)\n",
    "    else:\n",
    "        data = [chat_entry, bot_entry]\n",
    "\n",
    "    # Save updates\n",
    "    with open(json_file, \"w\") as f:\n",
    "        json.dump(data, f, indent=4)\n",
    "\n",
    "# Initialize log file\n",
    "init_json_log()"
   ]
  },
  {
   "cell_type": "code",
   "execution_count": 30,
   "id": "599e27d8",
   "metadata": {},
   "outputs": [],
   "source": [
    "# Step 8: Define chatbot function\n",
    "def chat_with_bot(message, history):\n",
    "    try:\n",
    "        response = conversation.predict(input=message)\n",
    "        save_to_json(message, response)  # save each exchange\n",
    "        return response\n",
    "    except Exception as e:\n",
    "        return f\"⚠️ Error: {str(e)}\""
   ]
  },
  {
   "cell_type": "code",
   "execution_count": null,
   "id": "c44fa43c",
   "metadata": {},
   "outputs": [
    {
     "name": "stderr",
     "output_type": "stream",
     "text": [
      "C:\\Users\\cocsa\\AppData\\Local\\Packages\\PythonSoftwareFoundation.Python.3.11_qbz5n2kfra8p0\\LocalCache\\local-packages\\Python311\\site-packages\\gradio\\chat_interface.py:348: UserWarning: The 'tuples' format for chatbot messages is deprecated and will be removed in a future version of Gradio. Please set type='messages' instead, which uses openai-style 'role' and 'content' keys.\n",
      "  self.chatbot = Chatbot(\n"
     ]
    },
    {
     "name": "stdout",
     "output_type": "stream",
     "text": [
      "* Running on local URL:  http://127.0.0.1:7864\n",
      "* To create a public link, set `share=True` in `launch()`.\n"
     ]
    },
    {
     "data": {
      "text/html": [
       "<div><iframe src=\"http://127.0.0.1:7864/\" width=\"100%\" height=\"500\" allow=\"autoplay; camera; microphone; clipboard-read; clipboard-write;\" frameborder=\"0\" allowfullscreen></iframe></div>"
      ],
      "text/plain": [
       "<IPython.core.display.HTML object>"
      ]
     },
     "metadata": {},
     "output_type": "display_data"
    },
    {
     "data": {
      "text/plain": []
     },
     "execution_count": 31,
     "metadata": {},
     "output_type": "execute_result"
    },
    {
     "name": "stdout",
     "output_type": "stream",
     "text": [
      "\n",
      "\n",
      "\u001b[1m> Entering new ConversationChain chain...\u001b[0m\n",
      "Prompt after formatting:\n",
      "\u001b[32;1m\u001b[1;3mYou are a helpful manufacturing assistant.\n",
      "You assist operators, supervisors, and suppliers with production, maintenance, and inventory details.\n",
      "Use the conversation history below to maintain context.\n",
      "\n",
      "Conversation:\n",
      "[]\n",
      "User: hi whats up \n",
      "Assistant:\u001b[0m\n",
      "\n",
      "\u001b[1m> Finished chain.\u001b[0m\n",
      "\n",
      "\n",
      "\u001b[1m> Entering new ConversationChain chain...\u001b[0m\n",
      "Prompt after formatting:\n",
      "\u001b[32;1m\u001b[1;3mYou are a helpful manufacturing assistant.\n",
      "You assist operators, supervisors, and suppliers with production, maintenance, and inventory details.\n",
      "Use the conversation history below to maintain context.\n",
      "\n",
      "Conversation:\n",
      "[HumanMessage(content='hi whats up '), AIMessage(content='Not much, just getting ready for the morning shift. What about you? Do you need any assistance with production or inventory?')]\n",
      "User: so how you doing today\n",
      "Assistant:\u001b[0m\n",
      "\n",
      "\u001b[1m> Finished chain.\u001b[0m\n"
     ]
    }
   ],
   "source": [
    "# Step 9: Launch Gradio chat interface\n",
    "gr.ChatInterface(\n",
    "    fn=chat_with_bot,\n",
    "    title=\"🏭 Manufacturing Chatbot with Memory\",\n",
    "    description=\"Ask about production, maintenance, or operations. I remember previous queries!\",\n",
    "    theme=\"soft\"\n",
    ").launch()"
   ]
  }
 ],
 "metadata": {
  "kernelspec": {
   "display_name": "Python 3",
   "language": "python",
   "name": "python3"
  },
  "language_info": {
   "codemirror_mode": {
    "name": "ipython",
    "version": 3
   },
   "file_extension": ".py",
   "mimetype": "text/x-python",
   "name": "python",
   "nbconvert_exporter": "python",
   "pygments_lexer": "ipython3",
   "version": "3.11.9"
  }
 },
 "nbformat": 4,
 "nbformat_minor": 5
}
