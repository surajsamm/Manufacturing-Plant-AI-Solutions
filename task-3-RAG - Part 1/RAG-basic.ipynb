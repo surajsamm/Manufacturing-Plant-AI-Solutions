{
 "cells": [
  {
   "cell_type": "code",
   "execution_count": 12,
   "id": "f0c6d304",
   "metadata": {},
   "outputs": [
    {
     "name": "stderr",
     "output_type": "stream",
     "text": [
      "\n",
      "[notice] A new release of pip is available: 24.0 -> 25.2\n",
      "[notice] To update, run: C:\\Users\\cocsa\\AppData\\Local\\Microsoft\\WindowsApps\\PythonSoftwareFoundation.Python.3.11_qbz5n2kfra8p0\\python.exe -m pip install --upgrade pip\n"
     ]
    }
   ],
   "source": [
    "# Task 3: RAG - Part 1 (Basic Document QA)\n",
    "# Objective: Enable Q&A over machine manuals, ISO standards, safety SOPs\n",
    "\n",
    "# ✅ Step 1: Install dependencies\n",
    "!pip install langchain langchain-community faiss-cpu PyPDF2 gradio groq python-dotenv langchain-groq pypdf -q"
   ]
  },
  {
   "cell_type": "code",
   "execution_count": 8,
   "id": "97623850",
   "metadata": {},
   "outputs": [
    {
     "name": "stderr",
     "output_type": "stream",
     "text": [
      "C:\\Users\\cocsa\\AppData\\Local\\Packages\\PythonSoftwareFoundation.Python.3.11_qbz5n2kfra8p0\\LocalCache\\local-packages\\Python311\\site-packages\\tqdm\\auto.py:21: TqdmWarning: IProgress not found. Please update jupyter and ipywidgets. See https://ipywidgets.readthedocs.io/en/stable/user_install.html\n",
      "  from .autonotebook import tqdm as notebook_tqdm\n"
     ]
    }
   ],
   "source": [
    "# ✅ Step 2: Import Libraries\n",
    "import os\n",
    "import gradio as gr\n",
    "from langchain.text_splitter import RecursiveCharacterTextSplitter\n",
    "from langchain_community.document_loaders import PyPDFLoader\n",
    "from langchain_community.vectorstores import FAISS\n",
    "from langchain_community.embeddings import HuggingFaceEmbeddings\n",
    "from langchain.chains import RetrievalQA\n",
    "from langchain.prompts import PromptTemplate\n",
    "from langchain_groq import ChatGroq"
   ]
  },
  {
   "cell_type": "code",
   "execution_count": null,
   "id": "7ca20073",
   "metadata": {},
   "outputs": [],
   "source": [
    "\n",
    "# =====================================\n",
    "# 🔑 Step 3: Set up API Key\n",
    "# =====================================\n",
    "os.environ[\"GROQ_API_KEY\"] = \"your_groq_api_key_here\"\n"
   ]
  },
  {
   "cell_type": "code",
   "execution_count": 5,
   "id": "76cb3b56",
   "metadata": {},
   "outputs": [
    {
     "name": "stdout",
     "output_type": "stream",
     "text": [
      "Loaded 1 documents from 1 PDF files.\n"
     ]
    }
   ],
   "source": [
    "import os\n",
    "from langchain.document_loaders import PyPDFLoader\n",
    "\n",
    "# Step 4: Load PDFs from local folder\n",
    "folder_path = \"manuals/\"  # folder containing your PDFs\n",
    "pdf_files = [os.path.join(folder_path, f) for f in os.listdir(folder_path) if f.endswith(\".pdf\")]\n",
    "\n",
    "documents = []\n",
    "for path in pdf_files:\n",
    "    loader = PyPDFLoader(path)\n",
    "    docs = loader.load()\n",
    "    documents.extend(docs)\n",
    "\n",
    "print(f\"Loaded {len(documents)} documents from {len(pdf_files)} PDF files.\")\n"
   ]
  },
  {
   "cell_type": "code",
   "execution_count": 9,
   "id": "b17929be",
   "metadata": {},
   "outputs": [
    {
     "name": "stdout",
     "output_type": "stream",
     "text": [
      "Split into 2 chunks.\n"
     ]
    }
   ],
   "source": [
    "# Step 5: Split documents into chunks for embeddings\n",
    "text_splitter = RecursiveCharacterTextSplitter(\n",
    "    chunk_size=1000,\n",
    "    chunk_overlap=100\n",
    ")\n",
    "\n",
    "split_docs = text_splitter.split_documents(documents)\n",
    "print(f\"Split into {len(split_docs)} chunks.\")"
   ]
  },
  {
   "cell_type": "code",
   "execution_count": 11,
   "id": "bbaa33df",
   "metadata": {},
   "outputs": [
    {
     "name": "stdout",
     "output_type": "stream",
     "text": [
      "✅ FAISS index created and saved.\n"
     ]
    }
   ],
   "source": [
    "# =====================================\n",
    "# 🧠 Step 6: Create Embeddings & Vector Store (FAISS)\n",
    "# =====================================\n",
    "embeddings = HuggingFaceEmbeddings(model_name=\"all-MiniLM-L6-v2\")\n",
    "db = FAISS.from_documents(split_docs, embeddings)\n",
    "db.save_local(\"faiss_index\")\n",
    "print(\"✅ FAISS index created and saved.\")"
   ]
  },
  {
   "cell_type": "code",
   "execution_count": 13,
   "id": "d9912fca",
   "metadata": {},
   "outputs": [],
   "source": [
    "# =====================================\n",
    "# 💬 Step 7: Set Up LLM (Groq)\n",
    "# =====================================\n",
    "llm = ChatGroq(model=\"llama-3.3-70b-versatile\")\n",
    "\n",
    "# Create retriever\n",
    "retriever = db.as_retriever(search_kwargs={\"k\": 3})\n",
    "\n",
    "# Custom prompt template\n",
    "prompt = PromptTemplate(\n",
    "    input_variables=[\"context\", \"question\"],\n",
    "    template=(\n",
    "        \"You are an expert assistant for manufacturing document QA.\\n\"\n",
    "        \"Use the context below to answer the question accurately.\\n\\n\"\n",
    "        \"Context:\\n{context}\\n\\n\"\n",
    "        \"Question: {question}\\n\\n\"\n",
    "        \"Answer clearly and concisely.\"\n",
    "    ),\n",
    ")"
   ]
  },
  {
   "cell_type": "code",
   "execution_count": 15,
   "id": "7f07954a",
   "metadata": {},
   "outputs": [],
   "source": [
    "\n",
    "# Create RAG chain\n",
    "qa_chain = RetrievalQA.from_chain_type(\n",
    "    llm=llm,\n",
    "    chain_type=\"stuff\",\n",
    "    retriever=retriever,\n",
    "    chain_type_kwargs={\"prompt\": prompt},\n",
    ")"
   ]
  },
  {
   "cell_type": "code",
   "execution_count": 16,
   "id": "fa43d298",
   "metadata": {},
   "outputs": [],
   "source": [
    "# =====================================\n",
    "# 💬 Step 8: Build Gradio Chat UI\n",
    "# =====================================\n",
    "def chat_with_docs(question):\n",
    "    if not question.strip():\n",
    "        return \"Please enter a valid question.\"\n",
    "    try:\n",
    "        response = qa_chain.invoke({\"query\": question})\n",
    "        return response[\"result\"]\n",
    "    except Exception as e:\n",
    "        return f\"⚠️ Error: {e}\"\n",
    "\n",
    "ui = gr.Interface(\n",
    "    fn=chat_with_docs,\n",
    "    inputs=gr.Textbox(label=\"Ask a question about your documents\", placeholder=\"e.g. What are the safety steps before operating the CNC machine?\"),\n",
    "    outputs=gr.Textbox(label=\"Answer\"),\n",
    "    title=\"🧠 Task 03 - RAG Document QA\",\n",
    "    description=\"Upload PDF manuals, ISO standards, or SOPs in `/content/docs` and ask context-based questions.\",\n",
    ")"
   ]
  },
  {
   "cell_type": "code",
   "execution_count": 17,
   "id": "e49ae820",
   "metadata": {},
   "outputs": [
    {
     "name": "stdout",
     "output_type": "stream",
     "text": [
      "* Running on local URL:  http://127.0.0.1:7860\n",
      "* To create a public link, set `share=True` in `launch()`.\n"
     ]
    },
    {
     "data": {
      "text/html": [
       "<div><iframe src=\"http://127.0.0.1:7860/\" width=\"100%\" height=\"500\" allow=\"autoplay; camera; microphone; clipboard-read; clipboard-write;\" frameborder=\"0\" allowfullscreen></iframe></div>"
      ],
      "text/plain": [
       "<IPython.core.display.HTML object>"
      ]
     },
     "metadata": {},
     "output_type": "display_data"
    },
    {
     "name": "stdout",
     "output_type": "stream",
     "text": [
      "Keyboard interruption in main thread... closing server.\n"
     ]
    },
    {
     "data": {
      "text/plain": []
     },
     "execution_count": 17,
     "metadata": {},
     "output_type": "execute_result"
    }
   ],
   "source": [
    "\n",
    "# =====================================\n",
    "# 🚀 Step 9: Launch App\n",
    "# =====================================\n",
    "ui.launch(debug=True)"
   ]
  },
  {
   "cell_type": "code",
   "execution_count": null,
   "id": "37de5b75",
   "metadata": {},
   "outputs": [],
   "source": []
  }
 ],
 "metadata": {
  "kernelspec": {
   "display_name": "Python 3",
   "language": "python",
   "name": "python3"
  },
  "language_info": {
   "codemirror_mode": {
    "name": "ipython",
    "version": 3
   },
   "file_extension": ".py",
   "mimetype": "text/x-python",
   "name": "python",
   "nbconvert_exporter": "python",
   "pygments_lexer": "ipython3",
   "version": "3.11.9"
  }
 },
 "nbformat": 4,
 "nbformat_minor": 5
}
