{
 "cells": [
  {
   "cell_type": "code",
   "execution_count": null,
   "id": "c05bdece",
   "metadata": {},
   "outputs": [],
   "source": [
    "# -----------------------------------------\n",
    "# Task 05: SQL QA System (E-commerce Data)\n",
    "# Using LangChain + SQLite + Groq (LLaMA Model)\n",
    "# -----------------------------------------"
   ]
  },
  {
   "cell_type": "code",
   "execution_count": null,
   "id": "08aa56c9",
   "metadata": {},
   "outputs": [],
   "source": [
    "#Step 1: Install Packages\n",
    "# ==========================\n",
    "!pip install langchain langchain-community langchain-experimental groq sqlalchemy pandas\n"
   ]
  },
  {
   "cell_type": "code",
   "execution_count": 2,
   "id": "d8a38445",
   "metadata": {},
   "outputs": [],
   "source": [
    "# Step 1: Install dependencies (run this first in terminal or Colab)\n",
    "# !pip install langchain langchain-google-genai langchain-community google-generativeai sqlite3\n",
    "import pandas as pd\n",
    "import sqlite3\n",
    "from groq import Groq\n",
    "import random\n",
    "from datetime import datetime, timedelta"
   ]
  },
  {
   "cell_type": "code",
   "execution_count": null,
   "id": "da2b1a0b",
   "metadata": {},
   "outputs": [],
   "source": [
    "# Step 3: Initialize Groq client\n",
    "# ----------------------------\n",
    "api_key = \"Your API\"  # Replace with your actual key\n",
    "client = Groq(api_key=api_key)"
   ]
  },
  {
   "cell_type": "code",
   "execution_count": 4,
   "id": "a1954525",
   "metadata": {},
   "outputs": [
    {
     "name": "stdout",
     "output_type": "stream",
     "text": [
      "✅ Connected to database\n"
     ]
    }
   ],
   "source": [
    "conn = sqlite3.connect(\"finance.db\")\n",
    "cursor = conn.cursor()\n",
    "print(\"✅ Connected to database\")"
   ]
  },
  {
   "cell_type": "code",
   "execution_count": 5,
   "id": "051f00ba",
   "metadata": {},
   "outputs": [
    {
     "data": {
      "text/plain": [
       "<sqlite3.Cursor at 0x1bf765cc3c0>"
      ]
     },
     "execution_count": 5,
     "metadata": {},
     "output_type": "execute_result"
    }
   ],
   "source": [
    "# Create clients table\n",
    "cursor.execute(\"\"\"\n",
    "CREATE TABLE IF NOT EXISTS clients (\n",
    "    client_id INTEGER PRIMARY KEY AUTOINCREMENT,\n",
    "    name TEXT NOT NULL,\n",
    "    age INTEGER,\n",
    "    risk_profile TEXT,\n",
    "    portfolio_value REAL\n",
    ")\n",
    "\"\"\")\n",
    "\n",
    "# Create investments table\n",
    "cursor.execute(\"\"\"\n",
    "CREATE TABLE IF NOT EXISTS investments (\n",
    "    investment_id INTEGER PRIMARY KEY AUTOINCREMENT,\n",
    "    client_id INTEGER,\n",
    "    fund_name TEXT,\n",
    "    amount_invested REAL,\n",
    "    date TEXT,\n",
    "    FOREIGN KEY (client_id) REFERENCES clients(client_id)\n",
    ")\n",
    "\"\"\")"
   ]
  },
  {
   "cell_type": "code",
   "execution_count": 6,
   "id": "ca637666",
   "metadata": {},
   "outputs": [
    {
     "name": "stdout",
     "output_type": "stream",
     "text": [
      "✅ Inserted 30 clients and 30+ investments successfully.\n"
     ]
    }
   ],
   "source": [
    "# ---------------------------\n",
    "# Insert 30 clients\n",
    "# ---------------------------\n",
    "risk_profiles = [\"Low\", \"Medium\", \"High\"]\n",
    "client_names = [f\"Client {i}\" for i in range(1, 31)]\n",
    "\n",
    "clients_data = []\n",
    "for i in range(30):\n",
    "    name = client_names[i]\n",
    "    age = random.randint(25, 65)\n",
    "    risk_profile = random.choice(risk_profiles)\n",
    "    portfolio_value = round(random.uniform(100000, 5000000), 2)\n",
    "    clients_data.append((name, age, risk_profile, portfolio_value))\n",
    "\n",
    "cursor.executemany(\"\"\"\n",
    "INSERT INTO clients (name, age, risk_profile, portfolio_value)\n",
    "VALUES (?, ?, ?, ?)\n",
    "\"\"\", clients_data)\n",
    "\n",
    "# ---------------------------\n",
    "# Insert 30+ investments\n",
    "# ---------------------------\n",
    "fund_names = [\"Alpha Fund\", \"Beta Fund\", \"Gamma Fund\", \"Delta Fund\", \"Omega Fund\"]\n",
    "investments_data = []\n",
    "\n",
    "for i in range(1, 31):  # client_id from 1 to 30\n",
    "    for _ in range(random.randint(1, 3)):  # 1-3 investments per client\n",
    "        fund_name = random.choice(fund_names)\n",
    "        amount_invested = round(random.uniform(10000, 1000000), 2)\n",
    "        random_days = random.randint(0, 730)  # last 2 years\n",
    "        date = (datetime.now() - timedelta(days=random_days)).strftime(\"%Y-%m-%d\")\n",
    "        investments_data.append((i, fund_name, amount_invested, date))\n",
    "\n",
    "cursor.executemany(\"\"\"\n",
    "INSERT INTO investments (client_id, fund_name, amount_invested, date)\n",
    "VALUES (?, ?, ?, ?)\n",
    "\"\"\", investments_data)\n",
    "\n",
    "# Commit and close\n",
    "conn.commit()\n",
    "conn.close()\n",
    "\n",
    "print(\"✅ Inserted 30 clients and 30+ investments successfully.\")"
   ]
  },
  {
   "cell_type": "code",
   "execution_count": 7,
   "id": "1414dc90",
   "metadata": {},
   "outputs": [],
   "source": [
    "#Step 5: Function to generate SQL queries via Groq\n",
    "def generate_sql(nl_question):\n",
    "    prompt = f\"Generate an SQL query for SQLite based on this natural language question:\\n'{nl_question}'\\nReturn only the SQL query.\"\n",
    "    \n",
    "    response = client.chat.completions.create(\n",
    "        model=\"llama-3.3-70b-versatile\",\n",
    "        messages=[{\"role\": \"user\", \"content\": prompt}]\n",
    "    )\n",
    "    \n",
    "    sql_query = response.choices[0].message.content.replace(\"```sql\", \"\").replace(\"```\", \"\").strip()\n",
    "    return sql_query\n"
   ]
  },
  {
   "cell_type": "code",
   "execution_count": 13,
   "id": "deb757e1",
   "metadata": {},
   "outputs": [],
   "source": [
    "#Step 6: Function to execute SQL & summarize results\n",
    "def execute_sql(cursor, sql):\n",
    "    try:\n",
    "        # Clean SQL from any markdown backticks\n",
    "        sql_clean = sql.replace(\"```sql\", \"\").replace(\"```\", \"\").strip()\n",
    "        cursor.execute(sql_clean)\n",
    "        rows = cursor.fetchall()\n",
    "        if not rows:\n",
    "            return \"No results found.\"\n",
    "        return rows  # Return raw SQL results\n",
    "    except Exception as e:\n",
    "        return f\"⚠️ Error executing SQL: {e}\"\n"
   ]
  },
  {
   "cell_type": "code",
   "execution_count": 9,
   "id": "d041de5f",
   "metadata": {},
   "outputs": [],
   "source": [
    "questions = [\n",
    "    \"List clients with portfolio value over 50 lakh.\",\n",
    "    \"Show investments in 'Alpha Fund' over 1 lakh.\",\n",
    "    \"Which clients are high-risk and have more than 2 investments?\",\n",
    "    \"Find the total invested amount by each client.\"\n",
    "]\n"
   ]
  },
  {
   "cell_type": "code",
   "execution_count": 15,
   "id": "ddce08a2",
   "metadata": {},
   "outputs": [
    {
     "name": "stdout",
     "output_type": "stream",
     "text": [
      "\n",
      "==================================================\n",
      "❓ Question 1: List clients with portfolio value over 50 lakh.\n",
      "\n",
      "📝 Generated SQL:\n",
      "SELECT * \n",
      "FROM clients \n",
      "WHERE portfolio_value > 500000;\n",
      "\n",
      "==================================================\n",
      "❓ Question 2: Show investments in 'Alpha Fund' over 1 lakh.\n",
      "\n",
      "📝 Generated SQL:\n",
      "SELECT * FROM investments \n",
      "WHERE fund_name = 'Alpha Fund' AND amount > 100000;\n",
      "\n",
      "==================================================\n",
      "❓ Question 3: Which clients are high-risk and have more than 2 investments?\n",
      "\n",
      "📝 Generated SQL:\n",
      "SELECT c.client_name \n",
      "FROM clients c \n",
      "JOIN investments i ON c.client_id = i.client_id \n",
      "WHERE c.risk_level = 'high' \n",
      "GROUP BY c.client_id \n",
      "HAVING COUNT(i.investment_id) > 2;\n",
      "\n",
      "==================================================\n",
      "❓ Question 4: Find the total invested amount by each client.\n",
      "\n",
      "📝 Generated SQL:\n",
      "SELECT client_id, SUM(investment_amount) AS total_invested\n",
      "FROM investments\n",
      "GROUP BY client_id;\n"
     ]
    }
   ],
   "source": [
    "for idx, q in enumerate(questions, 1):\n",
    "    print(f\"\\n{'='*50}\")\n",
    "    print(f\"❓ Question {idx}: {q}\")\n",
    "    \n",
    "    sql_query = generate_sql(q)\n",
    "    print(f\"\\n📝 Generated SQL:\\n{sql_query}\")\n",
    "    \n",
    "   \n"
   ]
  },
  {
   "cell_type": "code",
   "execution_count": 16,
   "id": "71758f64",
   "metadata": {},
   "outputs": [
    {
     "name": "stdout",
     "output_type": "stream",
     "text": [
      "✅ Saved summary to query_summaries\\query_1_summary.txt\n",
      "✅ Saved summary to query_summaries\\query_2_summary.txt\n",
      "✅ Saved summary to query_summaries\\query_3_summary.txt\n",
      "✅ Saved summary to query_summaries\\query_4_summary.txt\n"
     ]
    }
   ],
   "source": [
    "#Save in text files\n",
    "import os\n",
    "\n",
    "# Create folder if it doesn't exist\n",
    "output_folder = \"query_summaries\"\n",
    "os.makedirs(output_folder, exist_ok=True)\n",
    "\n",
    "# Save each summary inside the folder\n",
    "for idx, q in enumerate(questions, 1):\n",
    "    sql_query = generate_sql(q)\n",
    "    answer = execute_sql_and_summarize(cursor, sql_query)\n",
    "    \n",
    "    filename = os.path.join(output_folder, f\"query_{idx}_summary.txt\")\n",
    "    with open(filename, \"w\", encoding=\"utf-8\") as f:\n",
    "        f.write(f\"Question: {q}\\n\\nSQL: {sql_query}\\n\\nSummary:\\n{answer}\")\n",
    "    print(f\"✅ Saved summary to {filename}\")"
   ]
  }
 ],
 "metadata": {
  "kernelspec": {
   "display_name": "Python 3",
   "language": "python",
   "name": "python3"
  },
  "language_info": {
   "codemirror_mode": {
    "name": "ipython",
    "version": 3
   },
   "file_extension": ".py",
   "mimetype": "text/x-python",
   "name": "python",
   "nbconvert_exporter": "python",
   "pygments_lexer": "ipython3",
   "version": "3.11.9"
  }
 },
 "nbformat": 4,
 "nbformat_minor": 5
}
