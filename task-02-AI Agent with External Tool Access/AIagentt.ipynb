{
  "cells": [
    {
      "cell_type": "code",
      "execution_count": 1,
      "metadata": {
        "colab": {
          "base_uri": "https://localhost:8080/"
        },
        "id": "VBRK9fc0MIpt",
        "outputId": "4a52162f-063d-4249-9816-032ec79589c3"
      },
      "outputs": [
        {
          "name": "stdout",
          "output_type": "stream",
          "text": [
            "Requirement already satisfied: langchain in /usr/local/lib/python3.12/dist-packages (0.3.27)\n",
            "Requirement already satisfied: langchain-groq in /usr/local/lib/python3.12/dist-packages (0.3.8)\n",
            "Requirement already satisfied: langgraph in /usr/local/lib/python3.12/dist-packages (0.6.10)\n",
            "Requirement already satisfied: requests in /usr/local/lib/python3.12/dist-packages (2.32.5)\n",
            "Requirement already satisfied: langchain-experimental==0.3.5rc1 in /usr/local/lib/python3.12/dist-packages (0.3.5rc1)\n",
            "Requirement already satisfied: langchain-core<1.0.0,>=0.3.28 in /usr/local/lib/python3.12/dist-packages (from langchain-experimental==0.3.5rc1) (0.3.78)\n",
            "Requirement already satisfied: langchain-community<1.0.0,>=0.3.0 in /usr/local/lib/python3.12/dist-packages (from langchain-experimental==0.3.5rc1) (0.3.31)\n",
            "Requirement already satisfied: langchain-text-splitters<1.0.0,>=0.3.9 in /usr/local/lib/python3.12/dist-packages (from langchain) (0.3.11)\n",
            "Requirement already satisfied: langsmith>=0.1.17 in /usr/local/lib/python3.12/dist-packages (from langchain) (0.4.33)\n",
            "Requirement already satisfied: pydantic<3.0.0,>=2.7.4 in /usr/local/lib/python3.12/dist-packages (from langchain) (2.11.10)\n",
            "Requirement already satisfied: SQLAlchemy<3,>=1.4 in /usr/local/lib/python3.12/dist-packages (from langchain) (2.0.43)\n",
            "Requirement already satisfied: PyYAML>=5.3 in /usr/local/lib/python3.12/dist-packages (from langchain) (6.0.3)\n",
            "Requirement already satisfied: groq<1,>=0.30.0 in /usr/local/lib/python3.12/dist-packages (from langchain-groq) (0.32.0)\n",
            "Requirement already satisfied: langgraph-checkpoint<3.0.0,>=2.1.0 in /usr/local/lib/python3.12/dist-packages (from langgraph) (2.1.2)\n",
            "Requirement already satisfied: langgraph-prebuilt<0.7.0,>=0.6.0 in /usr/local/lib/python3.12/dist-packages (from langgraph) (0.6.4)\n",
            "Requirement already satisfied: langgraph-sdk<0.3.0,>=0.2.2 in /usr/local/lib/python3.12/dist-packages (from langgraph) (0.2.9)\n",
            "Requirement already satisfied: xxhash>=3.5.0 in /usr/local/lib/python3.12/dist-packages (from langgraph) (3.6.0)\n",
            "Requirement already satisfied: charset_normalizer<4,>=2 in /usr/local/lib/python3.12/dist-packages (from requests) (3.4.3)\n",
            "Requirement already satisfied: idna<4,>=2.5 in /usr/local/lib/python3.12/dist-packages (from requests) (3.10)\n",
            "Requirement already satisfied: urllib3<3,>=1.21.1 in /usr/local/lib/python3.12/dist-packages (from requests) (2.5.0)\n",
            "Requirement already satisfied: certifi>=2017.4.17 in /usr/local/lib/python3.12/dist-packages (from requests) (2025.10.5)\n",
            "Requirement already satisfied: anyio<5,>=3.5.0 in /usr/local/lib/python3.12/dist-packages (from groq<1,>=0.30.0->langchain-groq) (4.11.0)\n",
            "Requirement already satisfied: distro<2,>=1.7.0 in /usr/local/lib/python3.12/dist-packages (from groq<1,>=0.30.0->langchain-groq) (1.9.0)\n",
            "Requirement already satisfied: httpx<1,>=0.23.0 in /usr/local/lib/python3.12/dist-packages (from groq<1,>=0.30.0->langchain-groq) (0.28.1)\n",
            "Requirement already satisfied: sniffio in /usr/local/lib/python3.12/dist-packages (from groq<1,>=0.30.0->langchain-groq) (1.3.1)\n",
            "Requirement already satisfied: typing-extensions<5,>=4.10 in /usr/local/lib/python3.12/dist-packages (from groq<1,>=0.30.0->langchain-groq) (4.15.0)\n",
            "Requirement already satisfied: aiohttp<4.0.0,>=3.8.3 in /usr/local/lib/python3.12/dist-packages (from langchain-community<1.0.0,>=0.3.0->langchain-experimental==0.3.5rc1) (3.13.0)\n",
            "Requirement already satisfied: tenacity!=8.4.0,<10.0.0,>=8.1.0 in /usr/local/lib/python3.12/dist-packages (from langchain-community<1.0.0,>=0.3.0->langchain-experimental==0.3.5rc1) (8.5.0)\n",
            "Requirement already satisfied: dataclasses-json<0.7.0,>=0.6.7 in /usr/local/lib/python3.12/dist-packages (from langchain-community<1.0.0,>=0.3.0->langchain-experimental==0.3.5rc1) (0.6.7)\n",
            "Requirement already satisfied: pydantic-settings<3.0.0,>=2.10.1 in /usr/local/lib/python3.12/dist-packages (from langchain-community<1.0.0,>=0.3.0->langchain-experimental==0.3.5rc1) (2.11.0)\n",
            "Requirement already satisfied: httpx-sse<1.0.0,>=0.4.0 in /usr/local/lib/python3.12/dist-packages (from langchain-community<1.0.0,>=0.3.0->langchain-experimental==0.3.5rc1) (0.4.2)\n",
            "Requirement already satisfied: numpy>=1.26.2 in /usr/local/lib/python3.12/dist-packages (from langchain-community<1.0.0,>=0.3.0->langchain-experimental==0.3.5rc1) (2.0.2)\n",
            "Requirement already satisfied: jsonpatch<2.0.0,>=1.33.0 in /usr/local/lib/python3.12/dist-packages (from langchain-core<1.0.0,>=0.3.28->langchain-experimental==0.3.5rc1) (1.33)\n",
            "Requirement already satisfied: packaging<26.0.0,>=23.2.0 in /usr/local/lib/python3.12/dist-packages (from langchain-core<1.0.0,>=0.3.28->langchain-experimental==0.3.5rc1) (25.0)\n",
            "Requirement already satisfied: ormsgpack>=1.10.0 in /usr/local/lib/python3.12/dist-packages (from langgraph-checkpoint<3.0.0,>=2.1.0->langgraph) (1.11.0)\n",
            "Requirement already satisfied: orjson>=3.10.1 in /usr/local/lib/python3.12/dist-packages (from langgraph-sdk<0.3.0,>=0.2.2->langgraph) (3.11.3)\n",
            "Requirement already satisfied: requests-toolbelt>=1.0.0 in /usr/local/lib/python3.12/dist-packages (from langsmith>=0.1.17->langchain) (1.0.0)\n",
            "Requirement already satisfied: zstandard>=0.23.0 in /usr/local/lib/python3.12/dist-packages (from langsmith>=0.1.17->langchain) (0.25.0)\n",
            "Requirement already satisfied: annotated-types>=0.6.0 in /usr/local/lib/python3.12/dist-packages (from pydantic<3.0.0,>=2.7.4->langchain) (0.7.0)\n",
            "Requirement already satisfied: pydantic-core==2.33.2 in /usr/local/lib/python3.12/dist-packages (from pydantic<3.0.0,>=2.7.4->langchain) (2.33.2)\n",
            "Requirement already satisfied: typing-inspection>=0.4.0 in /usr/local/lib/python3.12/dist-packages (from pydantic<3.0.0,>=2.7.4->langchain) (0.4.2)\n",
            "Requirement already satisfied: greenlet>=1 in /usr/local/lib/python3.12/dist-packages (from SQLAlchemy<3,>=1.4->langchain) (3.2.4)\n",
            "Requirement already satisfied: aiohappyeyeballs>=2.5.0 in /usr/local/lib/python3.12/dist-packages (from aiohttp<4.0.0,>=3.8.3->langchain-community<1.0.0,>=0.3.0->langchain-experimental==0.3.5rc1) (2.6.1)\n",
            "Requirement already satisfied: aiosignal>=1.4.0 in /usr/local/lib/python3.12/dist-packages (from aiohttp<4.0.0,>=3.8.3->langchain-community<1.0.0,>=0.3.0->langchain-experimental==0.3.5rc1) (1.4.0)\n",
            "Requirement already satisfied: attrs>=17.3.0 in /usr/local/lib/python3.12/dist-packages (from aiohttp<4.0.0,>=3.8.3->langchain-community<1.0.0,>=0.3.0->langchain-experimental==0.3.5rc1) (25.4.0)\n",
            "Requirement already satisfied: frozenlist>=1.1.1 in /usr/local/lib/python3.12/dist-packages (from aiohttp<4.0.0,>=3.8.3->langchain-community<1.0.0,>=0.3.0->langchain-experimental==0.3.5rc1) (1.8.0)\n",
            "Requirement already satisfied: multidict<7.0,>=4.5 in /usr/local/lib/python3.12/dist-packages (from aiohttp<4.0.0,>=3.8.3->langchain-community<1.0.0,>=0.3.0->langchain-experimental==0.3.5rc1) (6.7.0)\n",
            "Requirement already satisfied: propcache>=0.2.0 in /usr/local/lib/python3.12/dist-packages (from aiohttp<4.0.0,>=3.8.3->langchain-community<1.0.0,>=0.3.0->langchain-experimental==0.3.5rc1) (0.3.2)\n",
            "Requirement already satisfied: yarl<2.0,>=1.17.0 in /usr/local/lib/python3.12/dist-packages (from aiohttp<4.0.0,>=3.8.3->langchain-community<1.0.0,>=0.3.0->langchain-experimental==0.3.5rc1) (1.22.0)\n",
            "Requirement already satisfied: marshmallow<4.0.0,>=3.18.0 in /usr/local/lib/python3.12/dist-packages (from dataclasses-json<0.7.0,>=0.6.7->langchain-community<1.0.0,>=0.3.0->langchain-experimental==0.3.5rc1) (3.26.1)\n",
            "Requirement already satisfied: typing-inspect<1,>=0.4.0 in /usr/local/lib/python3.12/dist-packages (from dataclasses-json<0.7.0,>=0.6.7->langchain-community<1.0.0,>=0.3.0->langchain-experimental==0.3.5rc1) (0.9.0)\n",
            "Requirement already satisfied: httpcore==1.* in /usr/local/lib/python3.12/dist-packages (from httpx<1,>=0.23.0->groq<1,>=0.30.0->langchain-groq) (1.0.9)\n",
            "Requirement already satisfied: h11>=0.16 in /usr/local/lib/python3.12/dist-packages (from httpcore==1.*->httpx<1,>=0.23.0->groq<1,>=0.30.0->langchain-groq) (0.16.0)\n",
            "Requirement already satisfied: jsonpointer>=1.9 in /usr/local/lib/python3.12/dist-packages (from jsonpatch<2.0.0,>=1.33.0->langchain-core<1.0.0,>=0.3.28->langchain-experimental==0.3.5rc1) (3.0.0)\n",
            "Requirement already satisfied: python-dotenv>=0.21.0 in /usr/local/lib/python3.12/dist-packages (from pydantic-settings<3.0.0,>=2.10.1->langchain-community<1.0.0,>=0.3.0->langchain-experimental==0.3.5rc1) (1.1.1)\n",
            "Requirement already satisfied: mypy-extensions>=0.3.0 in /usr/local/lib/python3.12/dist-packages (from typing-inspect<1,>=0.4.0->dataclasses-json<0.7.0,>=0.6.7->langchain-community<1.0.0,>=0.3.0->langchain-experimental==0.3.5rc1) (1.1.0)\n"
          ]
        }
      ],
      "source": [
        "\n",
        "# Step 1: Install dependencies\n",
        "!pip install langchain langchain-groq langgraph requests langchain-experimental==0.3.5rc1\n"
      ]
    },
    {
      "cell_type": "code",
      "execution_count": 3,
      "metadata": {
        "id": "L0eJdmkjMSwz"
      },
      "outputs": [],
      "source": [
        "# Step 2: Import libraries\n",
        "from langchain_groq import ChatGroq\n",
        "from langchain.agents import initialize_agent, Tool\n",
        "from langchain_experimental.tools.python.tool import PythonREPLTool\n",
        "from langchain.agents import AgentType\n",
        "from langchain_community.tools.requests.tool import RequestsGetTool # Corrected import\n",
        "import langgraph as lg\n",
        "import os"
      ]
    },
    {
      "cell_type": "code",
      "execution_count": null,
      "metadata": {
        "id": "77Mdn8JxMS9Y"
      },
      "outputs": [],
      "source": [
        "# Step 3: Set Groq API Key\n",
        "os.environ[\"GROQ_API_KEY\"] = \"your_groq_api_key_here\"  # 👉 Replace with your actual Groq API key"
      ]
    },
    {
      "cell_type": "code",
      "execution_count": 5,
      "metadata": {
        "id": "VNFJK0tWMaLM"
      },
      "outputs": [],
      "source": [
        "# Step 4: Initialize LLM (Groq / Gemini)\n",
        "llm = ChatGroq(\n",
        "    api_key=os.environ[\"GROQ_API_KEY\"],\n",
        "    model=\"llama-3.1-8b-instant\"\n",
        ")\n"
      ]
    },
    {
      "cell_type": "code",
      "execution_count": 8,
      "metadata": {
        "id": "U5zHRHAWMcqG"
      },
      "outputs": [],
      "source": [
        "# ============================================================\n",
        "# Step 5: Define Tools for Agent\n",
        "# ============================================================\n",
        "\n",
        "# 5.1 Production Efficiency Calculator\n",
        "def calculate_efficiency(produced_units, target_units):\n",
        "    return round((produced_units / target_units) * 100, 2)\n",
        "\n",
        "calculator_tool = Tool(\n",
        "    name=\"ProductionEfficiencyCalculator\",\n",
        "    func=lambda x: str(calculate_efficiency(*map(float, x.split(',')))),\n",
        "    description=\"Calculates production efficiency. Input: 'produced_units,target_units'\"\n",
        ")\n",
        "\n",
        "# 5.2 Python REPL Tool for multi-step calculations\n",
        "python_tool = PythonREPLTool()\n",
        "\n",
        "# 5.3 HTTP Requests Tool to fetch external data\n",
        "from langchain_community.utilities import RequestsWrapper # Import RequestsWrapper\n",
        "\n",
        "requests_wrapper = RequestsWrapper() # Create an instance of RequestsWrapper\n",
        "\n",
        "http_tool = RequestsGetTool(\n",
        "    name=\"InventoryAPI\",\n",
        "    description=\"Use this tool to fetch inventory or reorder information from external APIs. Input: URL of the API endpoint.\",\n",
        "    requests_wrapper=requests_wrapper, # Pass the requests_wrapper instance\n",
        "    allow_dangerous_requests=True\n",
        ")"
      ]
    },
    {
      "cell_type": "code",
      "execution_count": 9,
      "metadata": {
        "colab": {
          "base_uri": "https://localhost:8080/"
        },
        "id": "PYVIkvoNMeos",
        "outputId": "f9fb52d9-43c9-4e70-cfb8-03ce477f7b32"
      },
      "outputs": [
        {
          "name": "stderr",
          "output_type": "stream",
          "text": [
            "/tmp/ipython-input-3546944005.py:7: LangChainDeprecationWarning: LangChain agents will continue to be supported, but it is recommended for new use cases to be built with LangGraph. LangGraph offers a more flexible and full-featured framework for building agents, including support for tool-calling, persistence of state, and human-in-the-loop workflows. For details, refer to the `LangGraph documentation <https://langchain-ai.github.io/langgraph/>`_ as well as guides for `Migrating from AgentExecutor <https://python.langchain.com/docs/how_to/migrate_agent/>`_ and LangGraph's `Pre-built ReAct agent <https://langchain-ai.github.io/langgraph/how-tos/create-react-agent/>`_.\n",
            "  agent = initialize_agent(\n"
          ]
        }
      ],
      "source": [
        "# ============================================================\n",
        "# Step 6: Initialize Agent with Tools (ReAct-style)\n",
        "# ============================================================\n",
        "\n",
        "tools = [calculator_tool, python_tool, http_tool]\n",
        "\n",
        "agent = initialize_agent(\n",
        "    tools=tools,\n",
        "    llm=llm,\n",
        "    agent=AgentType.STRUCTURED_CHAT_ZERO_SHOT_REACT_DESCRIPTION,\n",
        "    verbose=True\n",
        ")\n"
      ]
    },
    {
      "cell_type": "code",
      "execution_count": 10,
      "metadata": {
        "colab": {
          "base_uri": "https://localhost:8080/"
        },
        "id": "05oI05sZMgH8",
        "outputId": "93ec9fc0-02cf-48da-8ea6-5248de34b035"
      },
      "outputs": [
        {
          "name": "stderr",
          "output_type": "stream",
          "text": [
            "/tmp/ipython-input-1416815271.py:7: LangChainDeprecationWarning: The method `Chain.run` was deprecated in langchain 0.1.0 and will be removed in 1.0. Use :meth:`~invoke` instead.\n",
            "  response1 = agent.run(query1)\n"
          ]
        },
        {
          "name": "stdout",
          "output_type": "stream",
          "text": [
            "\n",
            "\n",
            "\u001b[1m> Entering new AgentExecutor chain...\u001b[0m\n",
            "\u001b[32;1m\u001b[1;3m{\n",
            "  \"action\": \"ProductionEfficiencyCalculator\",\n",
            "  \"action_input\": \"450,500\"\n",
            "}\u001b[0m\n",
            "\n",
            "\u001b[1m> Finished chain.\u001b[0m\n",
            "Query: If Line A produces 450 units instead of 500, what is the efficiency?\n",
            "Response: {\n",
            "  \"action\": \"ProductionEfficiencyCalculator\",\n",
            "  \"action_input\": \"450,500\"\n",
            "}\n",
            "\n",
            "\n",
            "\u001b[1m> Entering new AgentExecutor chain...\u001b[0m\n",
            "\u001b[32;1m\u001b[1;3m{\n",
            "  \"action\": \"ProductionEfficiencyCalculator\",\n",
            "  \"action_input\": \"10,40\"\n",
            "} \n",
            "\n",
            "\u001b[0m\n",
            "\n",
            "\u001b[1m> Finished chain.\u001b[0m\n",
            "Query: If downtime per machine is 2 hours and cost per hour is 1500, calculate total downtime cost for 3 machines.\n",
            "Response: {\n",
            "  \"action\": \"ProductionEfficiencyCalculator\",\n",
            "  \"action_input\": \"10,40\"\n",
            "} \n",
            "\n",
            "\n",
            "\n",
            "\n",
            "\u001b[1m> Entering new AgentExecutor chain...\u001b[0m\n",
            "\u001b[32;1m\u001b[1;3mAction: {\n",
            "  \"action\": \"InventoryAPI\",\n",
            "  \"action_input\": \"http://dummy-inventory-api.com/item/123\"\n",
            "}\n",
            "\n",
            "\u001b[0m\n",
            "\n",
            "\u001b[1m> Finished chain.\u001b[0m\n",
            "Query: Check current stock for item ID 123 from http://dummy-inventory-api.com/item/123\n",
            "Response: Action: {\n",
            "  \"action\": \"InventoryAPI\",\n",
            "  \"action_input\": \"http://dummy-inventory-api.com/item/123\"\n",
            "}\n",
            "\n",
            "\n"
          ]
        }
      ],
      "source": [
        "# ============================================================\n",
        "# Step 7: Test Agent Interactions\n",
        "# ============================================================\n",
        "\n",
        "# Example Query 1: Production Efficiency\n",
        "query1 = \"If Line A produces 450 units instead of 500, what is the efficiency?\"\n",
        "response1 = agent.run(query1)\n",
        "print(\"Query:\", query1)\n",
        "print(\"Response:\", response1)\n",
        "\n",
        "# Example Query 2: Downtime Cost\n",
        "query2 = \"If downtime per machine is 2 hours and cost per hour is 1500, calculate total downtime cost for 3 machines.\"\n",
        "response2 = agent.run(query2)\n",
        "print(\"Query:\", query2)\n",
        "print(\"Response:\", response2)\n",
        "\n",
        "# Example Query 3: Fetch Inventory via API (dummy example)\n",
        "query3 = \"Check current stock for item ID 123 from http://dummy-inventory-api.com/item/123\"\n",
        "response3 = agent.run(query3)\n",
        "print(\"Query:\", query3)\n",
        "print(\"Response:\", response3)"
      ]
    }
  ],
  "metadata": {
    "colab": {
      "provenance": []
    },
    "kernelspec": {
      "display_name": "Python 3",
      "name": "python3"
    },
    "language_info": {
      "name": "python"
    }
  },
  "nbformat": 4,
  "nbformat_minor": 0
}
